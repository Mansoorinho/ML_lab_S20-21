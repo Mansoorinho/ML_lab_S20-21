{
 "cells": [
  {
   "cell_type": "markdown",
   "metadata": {},
   "source": [
    "This is the solution to the second exercise in Lab course Nov.2020"
   ]
  },
  {
   "cell_type": "markdown",
   "metadata": {},
   "source": [
    "# Exercise 1: Exploratory Analysis on Real-World Data using Pandasand Matplotlib (6 Points)"
   ]
  },
  {
   "cell_type": "markdown",
   "metadata": {},
   "source": [
    "Please download and read about the attributes recorded for the dataset fromhere:https://www.kaggle.com/c/rossmann-store-sales/data.  Specifically, you needthe ’train.csv’ and ’store.csv’ files for this exercise sheet."
   ]
  },
  {
   "cell_type": "markdown",
   "metadata": {},
   "source": [
    "Part A: (Interesting stats)\n",
    "\n",
    "•Find the store that has the maximum sale recorded. Print the store id, date and the sales on that day\n",
    "\n",
    "•Find the store(s) that has/ve the least possible and maximum possible competition distance(s).\n",
    "\n",
    "•What has been the maximum timeline a store has ran a \"Promo\" for? Which store was that, and whatdates did the promotion covered?\n",
    "\n",
    "•What is the difference in the mean of sales (across all stores) when offering a Promo and not?\n",
    "\n",
    "•Are there any anomalies in the data as in where the store was \"Open\" but had no sales recorded? orvice versa?\n",
    "\n",
    "•Which store type (’a’,’b’ etc.) has had the most sales?"
   ]
  },
  {
   "cell_type": "code",
   "execution_count": 2,
   "metadata": {},
   "outputs": [
    {
     "name": "stdout",
     "output_type": "stream",
     "text": [
      "Object `wget` not found.\n"
     ]
    }
   ],
   "source": [
    "import urllib.request\n",
    "urllib.request.urlretrieve('http://www.example.com/songs/mp3.mp3', 'mp3.mp3')\n"
   ]
  },
  {
   "cell_type": "code",
   "execution_count": null,
   "metadata": {},
   "outputs": [],
   "source": []
  }
 ],
 "metadata": {
  "kernelspec": {
   "display_name": "Python 3",
   "language": "python",
   "name": "python3"
  },
  "language_info": {
   "codemirror_mode": {
    "name": "ipython",
    "version": 3
   },
   "file_extension": ".py",
   "mimetype": "text/x-python",
   "name": "python",
   "nbconvert_exporter": "python",
   "pygments_lexer": "ipython3",
   "version": "3.8.3"
  }
 },
 "nbformat": 4,
 "nbformat_minor": 4
}
