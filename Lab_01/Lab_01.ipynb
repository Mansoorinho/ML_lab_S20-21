{
 "cells": [
  {
   "cell_type": "markdown",
   "metadata": {},
   "source": [
    "# Solution to the first Lab assigment\n",
    "## Mansoor Nabawi"
   ]
  },
  {
   "cell_type": "markdown",
   "metadata": {},
   "source": [
    "Part A: reading the text and finding:\n",
    "\n",
    "the number of unique words.\n",
    "\n",
    "the top 5 most frequent words."
   ]
  },
  {
   "cell_type": "markdown",
   "metadata": {},
   "source": [
    "reading text file"
   ]
  },
  {
   "cell_type": "code",
   "execution_count": 20,
   "metadata": {},
   "outputs": [
    {
     "name": "stdout",
     "output_type": "stream",
     "text": [
      "Lorem ipsum dolor sit amet, consectetur adipiscing elit. Donec in erat maximus, eleifend ante eget, feugiat libero. Maecenas vel pharetra orci. Morbi vitae finibus augue. Nunc pharetra ac lacus vel efficitur. Cras sed urna non ex luctus imperdiet. Sed eu volutpat nunc. Maecenas et nunc tellus. Nunc eget purus consectetur, ultricies leo iaculis, gravida elit. Nunc molestie tortor dolor, nec laoreet lectus sollicitudin sed. Duis ultricies at diam nec tincidunt. Donec at metus placerat lacus commodo molestie nec ut risus. Curabitur fermentum justo lectus, non maximus mauris placerat vel. Fusce auctor ex massa, nec condimentum enim interdum nec. Maecenas consectetur varius nunc, auctor pellentesque mi feugiat eu. Cras lacinia, ipsum vitae malesuada eleifend, mi magna hendrerit enim, id fringilla urna ante in magna.\n",
      "\n",
      "Suspendisse dolor nisl, interdum sit amet rutrum eget, congue sit amet odio. Vestibulum vestibulum orci sed volutpat facilisis. Quisque consectetur convallis mauris. In pretium velit arcu, sit amet facilisis massa semper at. Praesent nec lectus sit amet elit viverra cursus. Donec suscipit diam id metus condimentum tristique. Duis mollis enim eu ornare commodo. Nullam molestie vel enim in ornare.\n",
      "\n",
      "Fusce tempor elit at mauris imperdiet tempor. Donec ut felis eu neque convallis lobortis. Donec non tortor ut tellus hendrerit finibus at at nisl. Quisque iaculis finibus sem non finibus. Aenean lobortis ornare pellentesque. Vivamus euismod urna tortor, in venenatis nisi venenatis eu. Nullam finibus libero a elementum varius.\n",
      "\n",
      "Ut id tincidunt metus. In sed ante et sem posuere rutrum at eu leo. Integer consequat lacus sit amet ante placerat tempor. Fusce commodo enim vitae elit lobortis, non sagittis eros sagittis. Nam ultricies, elit at dapibus convallis, tellus ligula sagittis risus, non condimentum odio dolor eget ex. Etiam feugiat nulla sed tellus ornare pretium. Nam porta vestibulum dui iaculis tincidunt. Aenean a dignissim dui. Nulla facilisi. Aliquam faucibus sodales accumsan. Donec non quam in justo aliquam luctus vel interdum risus. Duis sodales rhoncus est, sed semper urna ullamcorper sit amet. Nulla sagittis ante vel molestie blandit. Aliquam maximus felis ut porttitor rutrum. Duis eu tempor mauris. Mauris nisi orci, feugiat sed blandit euismod, tempus sed lorem.\n",
      "\n",
      "Nullam interdum lorem a lectus efficitur pulvinar. Nullam mattis efficitur elit ac rutrum. Donec in ante vitae est dignissim mollis. Phasellus at velit id lectus vehicula condimentum. Vestibulum egestas turpis in nisl tristique luctus. Fusce convallis, augue iaculis dignissim tempus, augue ex convallis ante, non euismod lectus diam eu nisl. Pellentesque tristique diam in augue facilisis euismod eget et ante. Sed in faucibus ante. In hac habitasse platea dictumst. Proin elit ligula, suscipit id risus eu, volutpat varius libero. Mauris eget metus ut nibh vulputate euismod. Sed justo felis, accumsan sit amet dui vitae, dictum suscipit ligula. Sed commodo dapibus tincidunt.\n"
     ]
    }
   ],
   "source": [
    "random_text = open(\"random_text.txt\",\"r\")\n",
    "text = random_text.read()\n",
    "random_text.close()\n",
    "print(text)"
   ]
  },
  {
   "cell_type": "markdown",
   "metadata": {},
   "source": [
    "cleaning the text in order to continue"
   ]
  },
  {
   "cell_type": "code",
   "execution_count": 26,
   "metadata": {},
   "outputs": [],
   "source": [
    "text = text.lower().replace(\",\",\" \").replace(\".\", \" \")"
   ]
  },
  {
   "cell_type": "code",
   "execution_count": 34,
   "metadata": {},
   "outputs": [
    {
     "data": {
      "text/plain": [
       "'lorem ipsum dolor sit amet  consectetur adipiscing elit  donec in erat maximus  eleifend ante eget  feugiat libero  maecenas vel pharetra orci  morbi vitae finibus augue  nunc pharetra ac lacus vel efficitur  cras sed urna non ex luctus imperdiet  sed eu volutpat nunc  maecenas et nunc tellus  nunc eget purus consectetur  ultricies leo iaculis  gravida elit  nunc molestie tortor dolor  nec laoreet lectus sollicitudin sed  duis ultricies at diam nec tincidunt  donec at metus placerat lacus commodo molestie nec ut risus  curabitur fermentum justo lectus  non maximus mauris placerat vel  fusce auctor ex massa  nec condimentum enim interdum nec  maecenas consectetur varius nunc  auctor pellentesque mi feugiat eu  cras lacinia  ipsum vitae malesuada eleifend  mi magna hendrerit enim  id fringilla urna ante in magna \\n\\nsuspendisse dolor nisl  interdum sit amet rutrum eget  congue sit amet odio  vestibulum vestibulum orci sed volutpat facilisis  quisque consectetur convallis mauris  in pretium velit arcu  sit amet facilisis massa semper at  praesent nec lectus sit amet elit viverra cursus  donec suscipit diam id metus condimentum tristique  duis mollis enim eu ornare commodo  nullam molestie vel enim in ornare \\n\\nfusce tempor elit at mauris imperdiet tempor  donec ut felis eu neque convallis lobortis  donec non tortor ut tellus hendrerit finibus at at nisl  quisque iaculis finibus sem non finibus  aenean lobortis ornare pellentesque  vivamus euismod urna tortor  in venenatis nisi venenatis eu  nullam finibus libero a elementum varius \\n\\nut id tincidunt metus  in sed ante et sem posuere rutrum at eu leo  integer consequat lacus sit amet ante placerat tempor  fusce commodo enim vitae elit lobortis  non sagittis eros sagittis  nam ultricies  elit at dapibus convallis  tellus ligula sagittis risus  non condimentum odio dolor eget ex  etiam feugiat nulla sed tellus ornare pretium  nam porta vestibulum dui iaculis tincidunt  aenean a dignissim dui  nulla facilisi  aliquam faucibus sodales accumsan  donec non quam in justo aliquam luctus vel interdum risus  duis sodales rhoncus est  sed semper urna ullamcorper sit amet  nulla sagittis ante vel molestie blandit  aliquam maximus felis ut porttitor rutrum  duis eu tempor mauris  mauris nisi orci  feugiat sed blandit euismod  tempus sed lorem \\n\\nnullam interdum lorem a lectus efficitur pulvinar  nullam mattis efficitur elit ac rutrum  donec in ante vitae est dignissim mollis  phasellus at velit id lectus vehicula condimentum  vestibulum egestas turpis in nisl tristique luctus  fusce convallis  augue iaculis dignissim tempus  augue ex convallis ante  non euismod lectus diam eu nisl  pellentesque tristique diam in augue facilisis euismod eget et ante  sed in faucibus ante  in hac habitasse platea dictumst  proin elit ligula  suscipit id risus eu  volutpat varius libero  mauris eget metus ut nibh vulputate euismod  sed justo felis  accumsan sit amet dui vitae  dictum suscipit ligula  sed commodo dapibus tincidunt '"
      ]
     },
     "execution_count": 34,
     "metadata": {},
     "output_type": "execute_result"
    }
   ],
   "source": [
    "text"
   ]
  },
  {
   "cell_type": "code",
   "execution_count": 35,
   "metadata": {},
   "outputs": [],
   "source": [
    "lt = str.split(text)"
   ]
  },
  {
   "cell_type": "markdown",
   "metadata": {},
   "source": [
    "**number of unique words**"
   ]
  },
  {
   "cell_type": "code",
   "execution_count": 37,
   "metadata": {},
   "outputs": [
    {
     "data": {
      "text/plain": [
       "151"
      ]
     },
     "execution_count": 37,
     "metadata": {},
     "output_type": "execute_result"
    }
   ],
   "source": [
    "uniqe_words = set(lt)\n",
    "len(uniqe_words)"
   ]
  },
  {
   "cell_type": "markdown",
   "metadata": {},
   "source": [
    "**top 5 most occured words**"
   ]
  },
  {
   "cell_type": "code",
   "execution_count": 48,
   "metadata": {},
   "outputs": [],
   "source": [
    "wordcount={}\n",
    "for word in lt:\n",
    "    if word not in wordcount:\n",
    "        wordcount[word] = 1\n",
    "    else:\n",
    "        wordcount[word] += 1"
   ]
  },
  {
   "cell_type": "code",
   "execution_count": 51,
   "metadata": {},
   "outputs": [
    {
     "name": "stdout",
     "output_type": "stream",
     "text": [
      "Word           Count\n",
      "------------------\n",
      "in              12\n",
      "sed             12\n",
      "ante             9\n",
      "eu               9\n",
      "at               9\n",
      "sit              8\n",
      "amet             8\n",
      "elit             8\n",
      "non              8\n",
      "donec            7\n",
      "eget             6\n",
      "vel              6\n",
      "nunc             6\n",
      "nec              6\n",
      "lectus           6\n",
      "ut               6\n",
      "mauris           6\n",
      "vitae            5\n",
      "finibus          5\n",
      "enim             5\n",
      "id               5\n",
      "convallis        5\n",
      "euismod          5\n",
      "dolor            4\n",
      "consectetur      4\n",
      "feugiat          4\n",
      "augue            4\n",
      "urna             4\n",
      "ex               4\n",
      "tellus           4\n",
      "iaculis          4\n",
      "molestie         4\n",
      "duis             4\n",
      "diam             4\n",
      "tincidunt        4\n",
      "metus            4\n",
      "commodo          4\n",
      "risus            4\n",
      "fusce            4\n",
      "condimentum      4\n",
      "interdum         4\n",
      "nisl             4\n",
      "rutrum           4\n",
      "vestibulum       4\n",
      "ornare           4\n",
      "nullam           4\n",
      "tempor           4\n",
      "sagittis         4\n",
      "lorem            3\n",
      "maximus          3\n",
      "libero           3\n",
      "maecenas         3\n",
      "orci             3\n",
      "lacus            3\n",
      "efficitur        3\n",
      "luctus           3\n",
      "volutpat         3\n",
      "et               3\n",
      "ultricies        3\n",
      "tortor           3\n",
      "placerat         3\n",
      "justo            3\n",
      "varius           3\n",
      "pellentesque     3\n",
      "facilisis        3\n",
      "suscipit         3\n",
      "tristique        3\n",
      "felis            3\n",
      "lobortis         3\n",
      "a                3\n",
      "ligula           3\n",
      "nulla            3\n",
      "dui              3\n",
      "dignissim        3\n",
      "aliquam          3\n",
      "ipsum            2\n",
      "eleifend         2\n",
      "pharetra         2\n",
      "ac               2\n",
      "cras             2\n",
      "imperdiet        2\n",
      "leo              2\n",
      "auctor           2\n",
      "massa            2\n",
      "mi               2\n",
      "magna            2\n",
      "hendrerit        2\n",
      "odio             2\n",
      "quisque          2\n",
      "pretium          2\n",
      "velit            2\n",
      "semper           2\n",
      "mollis           2\n",
      "sem              2\n",
      "aenean           2\n",
      "venenatis        2\n",
      "nisi             2\n",
      "nam              2\n",
      "dapibus          2\n",
      "faucibus         2\n",
      "sodales          2\n",
      "accumsan         2\n",
      "est              2\n",
      "blandit          2\n",
      "tempus           2\n",
      "adipiscing       1\n",
      "erat             1\n",
      "morbi            1\n",
      "purus            1\n",
      "gravida          1\n",
      "laoreet          1\n",
      "sollicitudin     1\n",
      "curabitur        1\n",
      "fermentum        1\n",
      "lacinia          1\n",
      "malesuada        1\n",
      "fringilla        1\n",
      "suspendisse      1\n",
      "congue           1\n",
      "arcu             1\n",
      "praesent         1\n",
      "viverra          1\n",
      "cursus           1\n",
      "neque            1\n",
      "vivamus          1\n",
      "elementum        1\n",
      "posuere          1\n",
      "integer          1\n",
      "consequat        1\n",
      "eros             1\n",
      "etiam            1\n",
      "porta            1\n",
      "facilisi         1\n",
      "quam             1\n",
      "rhoncus          1\n",
      "ullamcorper      1\n",
      "porttitor        1\n",
      "pulvinar         1\n",
      "mattis           1\n",
      "phasellus        1\n",
      "vehicula         1\n",
      "egestas          1\n",
      "turpis           1\n",
      "hac              1\n",
      "habitasse        1\n",
      "platea           1\n",
      "dictumst         1\n",
      "proin            1\n",
      "nibh             1\n",
      "vulputate        1\n",
      "dictum           1\n"
     ]
    }
   ],
   "source": [
    "import operator\n",
    "\n",
    "sorted_dic = dict(sorted(wordcount.items(), key = operator.itemgetter(1), reverse=True))\n",
    "    \n",
    "print('{:15}{:3}'.format('Word','Count'))\n",
    "print('-' * 18)\n",
    "\n",
    "# printing the words and its occurrence in order.\n",
    "for word,occurance in (sorted_dic.items()): \n",
    "  print('{:15}{:3}'.format(word,occurance))"
   ]
  },
  {
   "cell_type": "markdown",
   "metadata": {},
   "source": [
    "*top 5 most occured*"
   ]
  },
  {
   "cell_type": "code",
   "execution_count": 53,
   "metadata": {},
   "outputs": [
    {
     "data": {
      "text/plain": [
       "['in', 'sed', 'ante', 'eu', 'at']"
      ]
     },
     "execution_count": 53,
     "metadata": {},
     "output_type": "execute_result"
    }
   ],
   "source": [
    "list(sorted_dic)[:5]"
   ]
  },
  {
   "cell_type": "code",
   "execution_count": null,
   "metadata": {},
   "outputs": [],
   "source": []
  }
 ],
 "metadata": {
  "kernelspec": {
   "display_name": "Python 3",
   "language": "python",
   "name": "python3"
  },
  "language_info": {
   "codemirror_mode": {
    "name": "ipython",
    "version": 3
   },
   "file_extension": ".py",
   "mimetype": "text/x-python",
   "name": "python",
   "nbconvert_exporter": "python",
   "pygments_lexer": "ipython3",
   "version": "3.8.3"
  }
 },
 "nbformat": 4,
 "nbformat_minor": 4
}
